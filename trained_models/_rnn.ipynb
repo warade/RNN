{
 "cells": [
  {
   "cell_type": "code",
   "execution_count": 155,
   "metadata": {},
   "outputs": [],
   "source": [
    "import numpy as np\n",
    "import tensorflow as tf\n",
    "from tensorflow.contrib import rnn\n",
    "import random \n",
    "import collections\n",
    "import time\n",
    "\n",
    "start_time = time.time()\n",
    "\n",
    "def elapsed(sec):\n",
    "    if sec<60:\n",
    "        return str(sec) + \" sec\"\n",
    "    elif sec<(60*60):\n",
    "        return str(sec/60) + \" min\""
   ]
  },
  {
   "cell_type": "code",
   "execution_count": 156,
   "metadata": {},
   "outputs": [],
   "source": [
    "log_path = './tensorflow/logs'\n",
    "writer = tf.summary.FileWriter(log_paths)\n",
    "training_file = './input/paragraph.txt'"
   ]
  },
  {
   "cell_type": "code",
   "execution_count": 157,
   "metadata": {},
   "outputs": [
    {
     "name": "stdout",
     "output_type": "stream",
     "text": [
      "Loaded training data....\n"
     ]
    }
   ],
   "source": [
    "def read_data(fname):\n",
    "    with open(fname) as f:\n",
    "        content = f.readlines()\n",
    "    content = [x.strip() for x in content]\n",
    "    content = [content[i].split() for i in range(len(content))]\n",
    "    content = np.array(content)\n",
    "    content = np.reshape(content, [-1, ])\n",
    "    return content\n",
    "\n",
    "training_data = read_data(training_file)\n",
    "print(\"Loaded training data....\")"
   ]
  },
  {
   "cell_type": "code",
   "execution_count": 158,
   "metadata": {},
   "outputs": [],
   "source": [
    "def build_dataset(words):\n",
    "    count = collections.Counter(words).most_common()\n",
    "    dictionary = dict()\n",
    "    for word, _ in count:\n",
    "        dictionary[word] = len(dictionary)\n",
    "    reverse_dictionary = dict(zip(dictionary.values(), dictionary.keys()))\n",
    "    return dictionary, reverse_dictionary\n",
    "\n",
    "dictionary, reverse_dictionary = build_dataset(training_data)"
   ]
  },
  {
   "cell_type": "code",
   "execution_count": 176,
   "metadata": {},
   "outputs": [],
   "source": [
    "vocab_size = len(dictionary)\n",
    "learning_rate = 1e-3\n",
    "training_iters = 50000\n",
    "display_step = 1000\n",
    "n_input = 3\n",
    "n_hidden = 512\n",
    "tf.reset_default_graph()\n",
    "x = tf.placeholder(\"float\", [None, n_input, 1])\n",
    "y = tf.placeholder(\"float\", [None, vocab_size])\n",
    "\n",
    "#RNN output node weights and biases\n",
    "weights = {\n",
    "    'out' : tf.Variable(tf.random_normal([n_hidden, vocab_size]))\n",
    "}\n",
    "biases = {\n",
    "    'out' : tf.Variable(tf.random_normal([vocab_size]))\n",
    "}\n"
   ]
  },
  {
   "cell_type": "code",
   "execution_count": 177,
   "metadata": {},
   "outputs": [],
   "source": [
    "def RNN(x, weights, biases):\n",
    "    #reshape to [1, n_input]\n",
    "    x = tf.reshape(x, [-1, n_input])\n",
    "    x = tf.split(x, n_input, 1)\n",
    "    rnn_cell = rnn.MultiRNNCell([rnn.BasicLSTMCell(n_hidden), rnn.BasicLSTMCell(n_hidden)])\n",
    "    \n",
    "    outputs, states = rnn.static_rnn(rnn_cell, x, dtype = tf.float32)\n",
    "    return tf.matmul(outputs[-1], weights['out']) + biases['out']"
   ]
  },
  {
   "cell_type": "code",
   "execution_count": 178,
   "metadata": {},
   "outputs": [],
   "source": [
    "pred = RNN(x, weights, biases)"
   ]
  },
  {
   "cell_type": "code",
   "execution_count": 179,
   "metadata": {},
   "outputs": [],
   "source": [
    "cost = tf.reduce_mean(tf.nn.softmax_cross_entropy_with_logits(logits=pred, labels=y))\n",
    "optimizer = tf.train.RMSPropOptimizer(learning_rate=learning_rate).minimize(cost)"
   ]
  },
  {
   "cell_type": "code",
   "execution_count": 180,
   "metadata": {},
   "outputs": [],
   "source": [
    "correct_pred = tf.equal(tf.argmax(pred, 1), tf.argmax(y, 1))\n",
    "accuracy = tf.reduce_mean(tf.cast(correct_pred, tf.float32))"
   ]
  },
  {
   "cell_type": "code",
   "execution_count": 181,
   "metadata": {},
   "outputs": [],
   "source": [
    "init = tf.global_variables_initializer()"
   ]
  },
  {
   "cell_type": "code",
   "execution_count": null,
   "metadata": {},
   "outputs": [
    {
     "name": "stderr",
     "output_type": "stream",
     "text": [
      "  2%|▏         | 1003/50000 [00:50<40:59, 19.92it/s]"
     ]
    },
    {
     "name": "stdout",
     "output_type": "stream",
     "text": [
      "Iter= 1000, Average loss= 4.133610, Average Accuracy= 14.10%\n",
      "['take', 'to', 'outwit'] - [their] vs [the]\n"
     ]
    },
    {
     "name": "stderr",
     "output_type": "stream",
     "text": [
      "  4%|▍         | 2002/50000 [01:41<40:29, 19.76it/s]"
     ]
    },
    {
     "name": "stdout",
     "output_type": "stream",
     "text": [
      "Iter= 2000, Average loss= 2.773148, Average Accuracy= 27.00%\n",
      "['said', 'this,', 'and'] - [some] vs [some]\n"
     ]
    },
    {
     "name": "stderr",
     "output_type": "stream",
     "text": [
      "  6%|▌         | 3002/50000 [02:36<40:45, 19.21it/s]"
     ]
    },
    {
     "name": "stdout",
     "output_type": "stream",
     "text": [
      "Iter= 3000, Average loss= 2.263278, Average Accuracy= 39.20%\n",
      "['and', 'some', 'said'] - [this,] vs [that]\n"
     ]
    },
    {
     "name": "stderr",
     "output_type": "stream",
     "text": [
      "  8%|▊         | 4002/50000 [03:25<39:24, 19.45it/s]"
     ]
    },
    {
     "name": "stdout",
     "output_type": "stream",
     "text": [
      "Iter= 4000, Average loss= 1.782811, Average Accuracy= 51.40%\n",
      "['common', 'enemy,', 'the'] - [cat.] vs [cat.]\n"
     ]
    },
    {
     "name": "stderr",
     "output_type": "stream",
     "text": [
      " 10%|█         | 5003/50000 [04:13<38:02, 19.72it/s]"
     ]
    },
    {
     "name": "stdout",
     "output_type": "stream",
     "text": [
      "Iter= 5000, Average loss= 1.621403, Average Accuracy= 57.70%\n",
      "['this,', 'and', 'some'] - [said] vs [said]\n"
     ]
    },
    {
     "name": "stderr",
     "output_type": "stream",
     "text": [
      " 12%|█▏        | 6002/50000 [05:02<36:56, 19.85it/s]"
     ]
    },
    {
     "name": "stdout",
     "output_type": "stream",
     "text": [
      "Iter= 6000, Average loss= 1.275137, Average Accuracy= 65.50%\n",
      "['outwit', 'their', 'common'] - [enemy,] vs [the]\n"
     ]
    },
    {
     "name": "stderr",
     "output_type": "stream",
     "text": [
      " 14%|█▍        | 7002/50000 [05:50<35:55, 19.95it/s]"
     ]
    },
    {
     "name": "stdout",
     "output_type": "stream",
     "text": [
      "Iter= 7000, Average loss= 1.340259, Average Accuracy= 59.80%\n",
      "['that', 'but', 'at'] - [last] vs [last]\n"
     ]
    },
    {
     "name": "stderr",
     "output_type": "stream",
     "text": [
      " 16%|█▌        | 8002/50000 [06:38<34:49, 20.10it/s]"
     ]
    },
    {
     "name": "stdout",
     "output_type": "stream",
     "text": [
      "Iter= 8000, Average loss= 1.212339, Average Accuracy= 65.60%\n",
      "['up', 'and', 'said'] - [he] vs [that]\n"
     ]
    },
    {
     "name": "stderr",
     "output_type": "stream",
     "text": [
      " 18%|█▊        | 9001/50000 [07:24<33:46, 20.23it/s]"
     ]
    },
    {
     "name": "stdout",
     "output_type": "stream",
     "text": [
      "Iter= 9000, Average loss= 1.172443, Average Accuracy= 66.20%\n",
      "['mouse', 'got', 'up'] - [and] vs [and]\n"
     ]
    },
    {
     "name": "stderr",
     "output_type": "stream",
     "text": [
      " 20%|██        | 10003/50000 [08:11<32:46, 20.34it/s]"
     ]
    },
    {
     "name": "stdout",
     "output_type": "stream",
     "text": [
      "Iter= 10000, Average loss= 1.075076, Average Accuracy= 71.70%\n",
      "['thought', 'would', 'meet'] - [the] vs [now,]\n"
     ]
    },
    {
     "name": "stderr",
     "output_type": "stream",
     "text": [
      " 22%|██▏       | 11001/50000 [08:58<31:48, 20.43it/s]"
     ]
    },
    {
     "name": "stdout",
     "output_type": "stream",
     "text": [
      "Iter= 11000, Average loss= 1.048260, Average Accuracy= 71.30%\n",
      "['had', 'a', 'proposal'] - [to] vs [to]\n"
     ]
    },
    {
     "name": "stderr",
     "output_type": "stream",
     "text": [
      " 24%|██▍       | 12003/50000 [09:45<30:53, 20.50it/s]"
     ]
    },
    {
     "name": "stdout",
     "output_type": "stream",
     "text": [
      "Iter= 12000, Average loss= 0.924757, Average Accuracy= 75.10%\n",
      "['a', 'young', 'mouse'] - [got] vs [got]\n"
     ]
    },
    {
     "name": "stderr",
     "output_type": "stream",
     "text": [
      " 26%|██▌       | 13003/50000 [10:32<29:59, 20.56it/s]"
     ]
    },
    {
     "name": "stdout",
     "output_type": "stream",
     "text": [
      "Iter= 13000, Average loss= 1.059483, Average Accuracy= 71.80%\n",
      "['he', 'had', 'a'] - [proposal] vs [proposal]\n"
     ]
    },
    {
     "name": "stderr",
     "output_type": "stream",
     "text": [
      " 28%|██▊       | 14002/50000 [11:19<29:05, 20.62it/s]"
     ]
    },
    {
     "name": "stdout",
     "output_type": "stream",
     "text": [
      "Iter= 14000, Average loss= 0.884764, Average Accuracy= 74.10%\n",
      "['would', 'meet', 'the'] - [case.] vs [cat.]\n"
     ]
    },
    {
     "name": "stderr",
     "output_type": "stream",
     "text": [
      " 30%|███       | 15003/50000 [12:06<28:14, 20.66it/s]"
     ]
    },
    {
     "name": "stdout",
     "output_type": "stream",
     "text": [
      "Iter= 15000, Average loss= 1.130804, Average Accuracy= 70.60%\n",
      "['case.', 'you', 'will'] - [all] vs [the]\n"
     ]
    },
    {
     "name": "stderr",
     "output_type": "stream",
     "text": [
      " 32%|███▏      | 16002/50000 [12:53<27:22, 20.70it/s]"
     ]
    },
    {
     "name": "stdout",
     "output_type": "stream",
     "text": [
      "Iter= 16000, Average loss= 1.008004, Average Accuracy= 72.90%\n",
      "['agree,', 'said', 'he,'] - [that] vs [that]\n"
     ]
    },
    {
     "name": "stderr",
     "output_type": "stream",
     "text": [
      " 34%|███▍      | 17001/50000 [13:39<26:31, 20.74it/s]"
     ]
    },
    {
     "name": "stdout",
     "output_type": "stream",
     "text": [
      "Iter= 17000, Average loss= 0.969450, Average Accuracy= 73.50%\n",
      "['in', 'the', 'sly'] - [and] vs [and]\n"
     ]
    },
    {
     "name": "stderr",
     "output_type": "stream",
     "text": [
      " 36%|███▌      | 18003/50000 [14:26<25:39, 20.78it/s]"
     ]
    },
    {
     "name": "stdout",
     "output_type": "stream",
     "text": [
      "Iter= 18000, Average loss= 0.952359, Average Accuracy= 74.00%\n",
      "['the', 'enemy', 'approaches'] - [us.] vs [will]\n"
     ]
    },
    {
     "name": "stderr",
     "output_type": "stream",
     "text": [
      " 38%|███▊      | 19002/50000 [15:13<24:49, 20.81it/s]"
     ]
    },
    {
     "name": "stdout",
     "output_type": "stream",
     "text": [
      "Iter= 19000, Average loss= 0.834072, Average Accuracy= 76.40%\n",
      "['the', 'sly', 'and'] - [treacherous] vs [treacherous]\n"
     ]
    },
    {
     "name": "stderr",
     "output_type": "stream",
     "text": [
      " 40%|████      | 20002/50000 [15:59<23:59, 20.84it/s]"
     ]
    },
    {
     "name": "stdout",
     "output_type": "stream",
     "text": [
      "Iter= 20000, Average loss= 0.863281, Average Accuracy= 76.50%\n",
      "['some', 'signla', 'of'] - [her] vs [her]\n"
     ]
    },
    {
     "name": "stderr",
     "output_type": "stream",
     "text": [
      " 42%|████▏     | 21003/50000 [16:46<23:09, 20.87it/s]"
     ]
    },
    {
     "name": "stdout",
     "output_type": "stream",
     "text": [
      "Iter= 21000, Average loss= 0.822601, Average Accuracy= 76.50%\n",
      "['a', 'small', 'bell'] - [be] vs [be]\n"
     ]
    },
    {
     "name": "stderr",
     "output_type": "stream",
     "text": [
      " 44%|████▍     | 22002/50000 [17:33<22:20, 20.89it/s]"
     ]
    },
    {
     "name": "stdout",
     "output_type": "stream",
     "text": [
      "Iter= 22000, Average loss= 0.786031, Average Accuracy= 77.60%\n",
      "['by', 'a', 'ribbon'] - [round] vs [round]\n"
     ]
    },
    {
     "name": "stderr",
     "output_type": "stream",
     "text": [
      " 46%|████▌     | 23001/50000 [18:19<21:30, 20.91it/s]"
     ]
    },
    {
     "name": "stdout",
     "output_type": "stream",
     "text": [
      "Iter= 23000, Average loss= 0.778830, Average Accuracy= 77.90%\n",
      "['about,', 'and', 'could'] - [easily] vs [easily]\n"
     ]
    },
    {
     "name": "stderr",
     "output_type": "stream",
     "text": [
      " 48%|████▊     | 24002/50000 [19:06<20:41, 20.94it/s]"
     ]
    },
    {
     "name": "stdout",
     "output_type": "stream",
     "text": [
      "Iter= 24000, Average loss= 0.802671, Average Accuracy= 78.40%\n",
      "['she', 'was', 'in'] - [the] vs [the]\n"
     ]
    },
    {
     "name": "stderr",
     "output_type": "stream",
     "text": [
      " 50%|█████     | 25001/50000 [19:53<19:52, 20.96it/s]"
     ]
    },
    {
     "name": "stdout",
     "output_type": "stream",
     "text": [
      "Iter= 25000, Average loss= 0.703230, Average Accuracy= 80.90%\n",
      "['neighbourhood.', 'this', 'proposal'] - [met] vs [met]\n"
     ]
    },
    {
     "name": "stderr",
     "output_type": "stream",
     "text": [
      " 52%|█████▏    | 26003/50000 [20:39<19:04, 20.97it/s]"
     ]
    },
    {
     "name": "stdout",
     "output_type": "stream",
     "text": [
      "Iter= 26000, Average loss= 0.695292, Average Accuracy= 81.70%\n",
      "['and', 'could', 'easily'] - [retire] vs [retire]\n"
     ]
    },
    {
     "name": "stderr",
     "output_type": "stream",
     "text": [
      " 54%|█████▍    | 27002/50000 [21:26<18:15, 20.99it/s]"
     ]
    },
    {
     "name": "stdout",
     "output_type": "stream",
     "text": [
      "Iter= 27000, Average loss= 0.728759, Average Accuracy= 80.20%\n",
      "['could', 'easily', 'retire'] - [while] vs [from]\n"
     ]
    },
    {
     "name": "stderr",
     "output_type": "stream",
     "text": [
      " 56%|█████▌    | 28001/50000 [22:12<17:27, 21.01it/s]"
     ]
    },
    {
     "name": "stdout",
     "output_type": "stream",
     "text": [
      "Iter= 28000, Average loss= 0.610499, Average Accuracy= 83.30%\n",
      "['with', 'general', 'applause,'] - [until] vs [until]\n"
     ]
    },
    {
     "name": "stderr",
     "output_type": "stream",
     "text": [
      " 58%|█████▊    | 29003/50000 [22:59<16:38, 21.02it/s]"
     ]
    },
    {
     "name": "stdout",
     "output_type": "stream",
     "text": [
      "Iter= 29000, Average loss= 0.674194, Average Accuracy= 81.10%\n",
      "['proposal', 'met', 'with'] - [general] vs [and]\n"
     ]
    },
    {
     "name": "stderr",
     "output_type": "stream",
     "text": [
      " 60%|██████    | 30001/50000 [23:46<15:50, 21.03it/s]"
     ]
    },
    {
     "name": "stdout",
     "output_type": "stream",
     "text": [
      "Iter= 30000, Average loss= 0.744138, Average Accuracy= 77.20%\n",
      "['well,', 'but', 'who'] - [is] vs [is]\n"
     ]
    },
    {
     "name": "stderr",
     "output_type": "stream",
     "text": [
      " 62%|██████▏   | 31003/50000 [24:33<15:02, 21.05it/s]"
     ]
    },
    {
     "name": "stdout",
     "output_type": "stream",
     "text": [
      "Iter= 31000, Average loss= 0.692545, Average Accuracy= 81.10%\n",
      "['well,', 'but', 'who'] - [is] vs [is]\n"
     ]
    },
    {
     "name": "stderr",
     "output_type": "stream",
     "text": [
      " 64%|██████▍   | 32002/50000 [25:20<14:14, 21.05it/s]"
     ]
    },
    {
     "name": "stdout",
     "output_type": "stream",
     "text": [
      "Iter= 32000, Average loss= 0.732558, Average Accuracy= 79.30%\n",
      "['the', 'cat?', 'the'] - [mice] vs [mice]\n"
     ]
    },
    {
     "name": "stderr",
     "output_type": "stream",
     "text": [
      " 66%|██████▌   | 33001/50000 [26:06<13:26, 21.06it/s]"
     ]
    },
    {
     "name": "stdout",
     "output_type": "stream",
     "text": [
      "Iter= 33000, Average loss= 0.732497, Average Accuracy= 78.80%\n",
      "['cat?', 'the', 'mice'] - [looked] vs [looked]\n"
     ]
    },
    {
     "name": "stderr",
     "output_type": "stream",
     "text": [
      " 68%|██████▊   | 34003/50000 [26:53<12:39, 21.07it/s]"
     ]
    },
    {
     "name": "stdout",
     "output_type": "stream",
     "text": [
      "Iter= 34000, Average loss= 0.662193, Average Accuracy= 81.30%\n",
      "['mice', 'looked', 'at'] - [one] vs [one]\n"
     ]
    },
    {
     "name": "stderr",
     "output_type": "stream",
     "text": [
      " 70%|███████   | 35001/50000 [27:40<11:51, 21.08it/s]"
     ]
    },
    {
     "name": "stdout",
     "output_type": "stream",
     "text": [
      "Iter= 35000, Average loss= 0.594069, Average Accuracy= 82.70%\n",
      "['the', 'cat?', 'the'] - [mice] vs [mice]\n"
     ]
    },
    {
     "name": "stderr",
     "output_type": "stream",
     "text": [
      " 72%|███████▏  | 36002/50000 [28:27<11:03, 21.09it/s]"
     ]
    },
    {
     "name": "stdout",
     "output_type": "stream",
     "text": [
      "Iter= 36000, Average loss= 0.652159, Average Accuracy= 81.00%\n",
      "['spoke,', 'then', 'the'] - [old] vs [old]\n"
     ]
    },
    {
     "name": "stderr",
     "output_type": "stream",
     "text": [
      " 74%|███████▍  | 37003/50000 [29:14<10:16, 21.10it/s]"
     ]
    },
    {
     "name": "stdout",
     "output_type": "stream",
     "text": [
      "Iter= 37000, Average loss= 0.781524, Average Accuracy= 78.20%\n",
      "['nobody', 'spoke,', 'then'] - [the] vs [old]\n"
     ]
    },
    {
     "name": "stderr",
     "output_type": "stream",
     "text": [
      " 76%|███████▌  | 38001/50000 [30:00<09:28, 21.10it/s]"
     ]
    },
    {
     "name": "stdout",
     "output_type": "stream",
     "text": [
      "Iter= 38000, Average loss= 0.760953, Average Accuracy= 80.90%\n",
      "['and', 'nobody', 'spoke,'] - [then] vs [then]\n"
     ]
    },
    {
     "name": "stderr",
     "output_type": "stream",
     "text": [
      " 78%|███████▊  | 39003/50000 [30:47<08:40, 21.11it/s]"
     ]
    },
    {
     "name": "stdout",
     "output_type": "stream",
     "text": [
      "Iter= 39000, Average loss= 0.705918, Average Accuracy= 80.90%\n",
      "['said', 'it', 'is'] - [easy] vs [easy]\n"
     ]
    },
    {
     "name": "stderr",
     "output_type": "stream",
     "text": [
      " 80%|████████  | 40002/50000 [31:34<07:53, 21.11it/s]"
     ]
    },
    {
     "name": "stdout",
     "output_type": "stream",
     "text": [
      "Iter= 40000, Average loss= 0.731052, Average Accuracy= 80.90%\n",
      "['consider', 'what', 'measures'] - [they] vs [they]\n"
     ]
    },
    {
     "name": "stderr",
     "output_type": "stream",
     "text": [
      " 82%|████████▏ | 41001/50000 [32:21<07:06, 21.12it/s]"
     ]
    },
    {
     "name": "stdout",
     "output_type": "stream",
     "text": [
      "Iter= 41000, Average loss= 0.585182, Average Accuracy= 83.20%\n",
      "['they', 'could', 'take'] - [to] vs [to]\n"
     ]
    },
    {
     "name": "stderr",
     "output_type": "stream",
     "text": [
      " 84%|████████▍ | 42003/50000 [33:08<06:18, 21.13it/s]"
     ]
    },
    {
     "name": "stdout",
     "output_type": "stream",
     "text": [
      "Iter= 42000, Average loss= 0.621451, Average Accuracy= 83.40%\n",
      "['enemy,', 'the', 'cat.'] - [some] vs [some]\n"
     ]
    },
    {
     "name": "stderr",
     "output_type": "stream",
     "text": [
      " 86%|████████▌ | 43002/50000 [33:54<05:31, 21.13it/s]"
     ]
    },
    {
     "name": "stdout",
     "output_type": "stream",
     "text": [
      "Iter= 43000, Average loss= 0.679053, Average Accuracy= 81.80%\n",
      "['and', 'some', 'said'] - [that] vs [this,]\n"
     ]
    },
    {
     "name": "stderr",
     "output_type": "stream",
     "text": [
      " 88%|████████▊ | 44003/50000 [34:41<04:43, 21.14it/s]"
     ]
    },
    {
     "name": "stdout",
     "output_type": "stream",
     "text": [
      "Iter= 44000, Average loss= 0.635526, Average Accuracy= 83.10%\n",
      "['he', 'thought', 'would'] - [meet] vs [meet]\n"
     ]
    },
    {
     "name": "stderr",
     "output_type": "stream",
     "text": [
      " 90%|█████████ | 45002/50000 [35:28<03:56, 21.14it/s]"
     ]
    },
    {
     "name": "stdout",
     "output_type": "stream",
     "text": [
      "Iter= 45000, Average loss= 0.594942, Average Accuracy= 82.90%\n",
      "['said', 'he', 'had'] - [a] vs [a]\n"
     ]
    },
    {
     "name": "stderr",
     "output_type": "stream",
     "text": [
      " 92%|█████████▏| 46001/50000 [36:14<03:09, 21.15it/s]"
     ]
    },
    {
     "name": "stdout",
     "output_type": "stream",
     "text": [
      "Iter= 46000, Average loss= 0.641469, Average Accuracy= 83.10%\n",
      "['would', 'meet', 'the'] - [case.] vs [case.]\n"
     ]
    },
    {
     "name": "stderr",
     "output_type": "stream",
     "text": [
      " 94%|█████████▍| 47003/50000 [37:01<02:21, 21.16it/s]"
     ]
    },
    {
     "name": "stdout",
     "output_type": "stream",
     "text": [
      "Iter= 47000, Average loss= 0.643700, Average Accuracy= 82.90%\n",
      "['our', 'chief', 'ddanger'] - [consists] vs [consists]\n"
     ]
    },
    {
     "name": "stderr",
     "output_type": "stream",
     "text": [
      " 96%|█████████▌| 48001/50000 [37:48<01:34, 21.16it/s]"
     ]
    },
    {
     "name": "stdout",
     "output_type": "stream",
     "text": [
      "Iter= 48000, Average loss= 0.637128, Average Accuracy= 82.60%\n",
      "['which', 'the', 'enemy'] - [approaches] vs [approaches]\n"
     ]
    },
    {
     "name": "stderr",
     "output_type": "stream",
     "text": [
      " 98%|█████████▊| 49003/50000 [38:34<00:47, 21.17it/s]"
     ]
    },
    {
     "name": "stdout",
     "output_type": "stream",
     "text": [
      "Iter= 49000, Average loss= 0.643083, Average Accuracy= 83.50%\n",
      "['of', 'her', 'approach,'] - [we] vs [we]\n"
     ]
    },
    {
     "name": "stderr",
     "output_type": "stream",
     "text": [
      "100%|██████████| 50000/50000 [39:21<00:00, 21.17it/s]\n"
     ]
    },
    {
     "name": "stdout",
     "output_type": "stream",
     "text": [
      "Iter= 50000, Average loss= 0.569836, Average Accuracy= 85.60%\n",
      "['easily', 'escape', 'from'] - [her,] vs [we]\n",
      "Optimization Finished!\n",
      "Elapsed time:  None\n",
      "Run on command line.\n",
      "\ttensorboard --logdir=./tensorflow/logs\n",
      "Point your web browser to: http://localhost:6006/\n",
      "3 words: had a general\n",
      "had a general council to consider what common could take to outwit their common the cat. some said this, and some said this, and some said this, and some said this, and some said this,\n",
      "3 words: the mice had\n",
      "the mice had a general council to consider what common could take to outwit their common the cat. some said this, and some said this, and some said this, and some said this, and some\n",
      "3 words: had a general\n",
      "had a general council to consider what common could take to outwit their common the cat. some said this, and some said this, and some said this, and some said this, and some said this,\n",
      "3 words: had a conflict\n",
      "Word not in the dictionary!\n",
      "3 words: had a general\n",
      "had a general council to consider what common could take to outwit their common the cat. some said this, and some said this, and some said this, and some said this, and some said this,\n",
      "3 words: to propose that\n",
      "to propose that a small bell be procured, and attached by a ribbon round the neck of proposal met with but who another and nobody spoke, then the old mouse said it is easy to\n",
      "3 words: you will agree\n",
      "Word not in the dictionary!\n",
      "3 words: you will aggree\n",
      "Word not in the dictionary!\n",
      "3 words: you will all\n",
      "you will all agree, said he, that our chief ddanger consists consists consists now, now, now, therefore, therefore, we applause, always know the neck of proposal met with but who another and nobody spoke, then\n"
     ]
    }
   ],
   "source": [
    "from tqdm import tqdm\n",
    "with tf.Session() as session:\n",
    "    session.run(init)\n",
    "    offset = random.randint(0, n_input+1)\n",
    "    end_offset = n_input+1\n",
    "    acc_total = 0\n",
    "    loss_total = 0\n",
    "    \n",
    "    writer.add_graph(session.graph)\n",
    "    for step in tqdm(range(training_iters)):\n",
    "        if offset > (len(training_data)-end_offset):\n",
    "            offset = random.randint(0, n_input+1)\n",
    "        symbols_in_keys = [ [dictionary[str(training_data[i])]] for i in range(offset, offset+n_input)]\n",
    "        symbols_in_keys = np.reshape(np.array(symbols_in_keys), [-1, n_input, 1])\n",
    "        \n",
    "        symbols_out_onehot = np.zeros([vocab_size], dtype = float)\n",
    "        symbols_out_onehot[dictionary[str(training_data[offset+n_input])]] = 1.0\n",
    "        symbols_out_onehot = np.reshape(symbols_out_onehot, [1, -1])\n",
    "        \n",
    "        _, acc, loss, onehot_pred = session.run([optimizer, accuracy, cost, pred], \\\n",
    "                                               feed_dict = {x: symbols_in_keys, y: symbols_out_onehot})\n",
    "    \n",
    "        loss_total += loss\n",
    "        acc_total += acc\n",
    "        if (step+1)%display_step == 0:\n",
    "            print(\"Iter= \" + str(step+1) + \", Average loss= \" + \\\n",
    "                 \"{:.6f}\".format(loss_total/display_step) + \", Average Accuracy= \" + \\\n",
    "                 \"{:.2f}%\".format(100*acc_total/display_step))\n",
    "            acc_total = 0\n",
    "            loss_total = 0\n",
    "            symbols_in = [training_data[i] for i in range(offset, offset+n_input)]\n",
    "            symbols_out = training_data[offset+n_input]\n",
    "            symbols_out_pred = reverse_dictionary[int(tf.argmax(onehot_pred, 1).eval())]\n",
    "            print(\"%s - [%s] vs [%s]\" % (symbols_in, symbols_out, symbols_out_pred))\n",
    "        step += 1\n",
    "        offset += (n_input+1)\n",
    "    print(\"Optimization Finished!\")\n",
    "    print(\"Elapsed time: \", elapsed(time.time() - start_time))\n",
    "    print(\"Run on command line.\")\n",
    "    print(\"\\ttensorboard --logdir=%s\" % (log_path))\n",
    "    print(\"Point your web browser to: http://localhost:6006/\")\n",
    "    while True:\n",
    "        prompt = \"%s words: \" % n_input\n",
    "        sentence = input(prompt)\n",
    "        sentence = sentence.strip()\n",
    "        words = sentence.split(' ')\n",
    "        if len(words) != n_input:\n",
    "            continue\n",
    "        try:\n",
    "            symbols_in_keys = [dictionary[str(words[i])] for i in range(len(words))]\n",
    "            for i in range(32):\n",
    "                keys = np.reshape(np.array(symbols_in_keys), [-1, n_input, 1])\n",
    "                onehot_pred = session.run(pred, feed_dict={x: keys})\n",
    "                onehot_pred_index = int(tf.argmax(onehot_pred, 1).eval())\n",
    "                sentence = \"%s %s\" % (sentence, reverse_dictionary[onehot_pred_index])\n",
    "                symbols_in_keys = symbols_in_keys[1:]\n",
    "                symbols_in_keys.append(onehot_pred_index)\n",
    "            print(sentence)\n",
    "        except:\n",
    "            print(\"Word not in the dictionary!\")"
   ]
  },
  {
   "cell_type": "code",
   "execution_count": null,
   "metadata": {},
   "outputs": [],
   "source": [
    "    "
   ]
  },
  {
   "cell_type": "code",
   "execution_count": null,
   "metadata": {},
   "outputs": [],
   "source": []
  },
  {
   "cell_type": "code",
   "execution_count": null,
   "metadata": {},
   "outputs": [],
   "source": []
  },
  {
   "cell_type": "code",
   "execution_count": null,
   "metadata": {},
   "outputs": [],
   "source": []
  }
 ],
 "metadata": {
  "kernelspec": {
   "display_name": "Python 3",
   "language": "python",
   "name": "python3"
  }
 },
 "nbformat": 4,
 "nbformat_minor": 2
}
